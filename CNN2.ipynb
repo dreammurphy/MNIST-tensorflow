{
 "cells": [
  {
   "cell_type": "code",
   "execution_count": 4,
   "metadata": {},
   "outputs": [],
   "source": [
    "import tensorflow as tf\n",
    "from tensorflow.examples.tutorials.mnist import input_data"
   ]
  },
  {
   "cell_type": "code",
   "execution_count": 2,
   "metadata": {},
   "outputs": [
    {
     "name": "stdout",
     "output_type": "stream",
     "text": [
      "WARNING:tensorflow:From <ipython-input-2-0eda2f9c2d4a>:1: read_data_sets (from tensorflow.contrib.learn.python.learn.datasets.mnist) is deprecated and will be removed in a future version.\n",
      "Instructions for updating:\n",
      "Please use alternatives such as official/mnist/dataset.py from tensorflow/models.\n",
      "WARNING:tensorflow:From D:\\ProgramData\\Anaconda3\\envs\\tensorflow\\lib\\site-packages\\tensorflow_core\\contrib\\learn\\python\\learn\\datasets\\mnist.py:260: maybe_download (from tensorflow.contrib.learn.python.learn.datasets.base) is deprecated and will be removed in a future version.\n",
      "Instructions for updating:\n",
      "Please write your own downloading logic.\n",
      "WARNING:tensorflow:From D:\\ProgramData\\Anaconda3\\envs\\tensorflow\\lib\\site-packages\\tensorflow_core\\contrib\\learn\\python\\learn\\datasets\\mnist.py:262: extract_images (from tensorflow.contrib.learn.python.learn.datasets.mnist) is deprecated and will be removed in a future version.\n",
      "Instructions for updating:\n",
      "Please use tf.data to implement this functionality.\n",
      "Extracting MNIST_data/train-images-idx3-ubyte.gz\n",
      "WARNING:tensorflow:From D:\\ProgramData\\Anaconda3\\envs\\tensorflow\\lib\\site-packages\\tensorflow_core\\contrib\\learn\\python\\learn\\datasets\\mnist.py:267: extract_labels (from tensorflow.contrib.learn.python.learn.datasets.mnist) is deprecated and will be removed in a future version.\n",
      "Instructions for updating:\n",
      "Please use tf.data to implement this functionality.\n",
      "Extracting MNIST_data/train-labels-idx1-ubyte.gz\n",
      "WARNING:tensorflow:From D:\\ProgramData\\Anaconda3\\envs\\tensorflow\\lib\\site-packages\\tensorflow_core\\contrib\\learn\\python\\learn\\datasets\\mnist.py:110: dense_to_one_hot (from tensorflow.contrib.learn.python.learn.datasets.mnist) is deprecated and will be removed in a future version.\n",
      "Instructions for updating:\n",
      "Please use tf.one_hot on tensors.\n",
      "Extracting MNIST_data/t10k-images-idx3-ubyte.gz\n",
      "Extracting MNIST_data/t10k-labels-idx1-ubyte.gz\n",
      "WARNING:tensorflow:From D:\\ProgramData\\Anaconda3\\envs\\tensorflow\\lib\\site-packages\\tensorflow_core\\contrib\\learn\\python\\learn\\datasets\\mnist.py:290: DataSet.__init__ (from tensorflow.contrib.learn.python.learn.datasets.mnist) is deprecated and will be removed in a future version.\n",
      "Instructions for updating:\n",
      "Please use alternatives such as official/mnist/dataset.py from tensorflow/models.\n"
     ]
    }
   ],
   "source": [
    "mnist=input_data.read_data_sets(\"MNIST_data/\",one_hot=True)"
   ]
  },
  {
   "cell_type": "code",
   "execution_count": 11,
   "metadata": {},
   "outputs": [],
   "source": [
    "input_width=28\n",
    "input_height=28\n",
    "input_channel=1\n",
    "input_pixels=784\n",
    "n_conv1=32\n",
    "n_conv2=64\n",
    "stride_conv1=1\n",
    "stride_conv2=1\n",
    "conv1_k=5\n",
    "conv2_k=5\n",
    "max_pool1_k=2\n",
    "max_pool2_k=2\n",
    "n_hidden=1024\n",
    "n_out=10\n",
    "input_size_to_hidden=(input_width//(max_pool1_k*max_pool2_k))*(input_height//(max_pool1_k*max_pool2_k))*n_cov2"
   ]
  },
  {
   "cell_type": "code",
   "execution_count": 9,
   "metadata": {},
   "outputs": [],
   "source": [
    "weights={\n",
    "    \"wc1\":tf.Variable(tf.random_normal([conv1_k,conv1_k,input_channel,n_conv1])),\n",
    "    \"wc2\":tf.Variable(tf.random_normal([conv2_k,conv2_k,n_cov1,n_conv2])),\n",
    "    \"wh1\":tf.Variable(tf.random_normal([input_size_to_hidden,n_hidden])),\n",
    "    \"wo\":tf.Variable(tf.random_normal([n_hidden,n_out]))\n",
    "}\n",
    "biases={\n",
    "    \"bc1\":tf.Variable(tf.random_normal([n_conv1])),\n",
    "    \"bc2\":tf.Variable(tf.random_normal([n_conv2])),\n",
    "    \"bh1\":tf.Variable(tf.random_normal([n_hidden])),\n",
    "    \"bo\":tf.Variable(tf.random_normal([n_out]))\n",
    "}"
   ]
  },
  {
   "cell_type": "code",
   "execution_count": 20,
   "metadata": {},
   "outputs": [],
   "source": [
    "def cnn(x,weights,biases):\n",
    "    x=tf.reshape(x,shape=[-1,input_height,input_width,input_channel])\n",
    "    conv1=conv(x,weights['wc1'],biases['bc1'],stride_conv1)\n",
    "    conv1_pool=maxpooling(conv1,max_pool1_k)\n",
    "    conv2=conv(conv1_pool,weights['wc2'],biases['bc2'],stride_conv2)\n",
    "    conv2_pool=maxpooling(conv2,max_pool2_k)\n",
    "    \n",
    "    hidden_input=tf.reshape(conv2_pool,shape=[-1,input_size_to_hidden])\n",
    "    hidden_output_before_activation=tf.add(tf.matmul(hidden_input,weights['wh1']),biases['bh1'])\n",
    "    hidden_output=tf.nn.relu(hidden_output_before_activation)\n",
    "    output=tf.add(tf.matmul(hidden_output,weights['wo']),biases['bo'])\n",
    "    return output"
   ]
  },
  {
   "cell_type": "code",
   "execution_count": 26,
   "metadata": {},
   "outputs": [],
   "source": [
    "def conv(x,weights,biases,strides=1):\n",
    "    out=tf.nn.conv2d(x,weights,padding=\"SAME\",strides=[1,strides,strides,1])\n",
    "    out=tf.nn.bias_add(out,biases)\n",
    "    out=tf.nn.relu(out)\n",
    "    return out\n",
    "def maxpooling(x,k=2):\n",
    "    return tf.nn.max_pool(x,padding=\"SAME\",ksize=[1,k,k,1],strides=[1,k,k,1])"
   ]
  },
  {
   "cell_type": "code",
   "execution_count": 30,
   "metadata": {},
   "outputs": [],
   "source": [
    "x=tf.placeholder(\"float\",[None,input_pixels])\n",
    "y=tf.placeholder(tf.int32,[None,n_out])\n",
    "pred=cnn(x,weights,biases)\n",
    "cost=tf.reduce_mean(tf.nn.softmax_cross_entropy_with_logits_v2(logits=pred,labels=y))\n",
    "optimizer=tf.train.AdamOptimizer(learning_rate=0.01)\n",
    "optimize=optimizer.minimize(cost)"
   ]
  },
  {
   "cell_type": "code",
   "execution_count": 33,
   "metadata": {},
   "outputs": [],
   "source": [
    "sess=tf.Session()\n",
    "sess.run(tf.global_variables_initializer())"
   ]
  },
  {
   "cell_type": "code",
   "execution_count": 36,
   "metadata": {},
   "outputs": [
    {
     "name": "stdout",
     "output_type": "stream",
     "text": [
      "923932.561966896\n",
      "34775.42513333261\n",
      "19045.241263349042\n",
      "12895.427157424278\n",
      "12791.481078686193\n",
      "14377.163433325015\n",
      "11488.830873816174\n",
      "11700.188747080565\n",
      "9275.955282036708\n",
      "7195.353482571838\n",
      "9276.609441802226\n",
      "6093.384251172133\n",
      "5616.635976124999\n",
      "5262.108468522407\n",
      "5755.863429695888\n",
      "3606.95079947263\n",
      "3814.668480481603\n",
      "3011.575597607344\n",
      "3538.611477649814\n",
      "3464.7980661407364\n",
      "3536.551879877795\n",
      "2474.653305345345\n",
      "2138.226689249903\n",
      "3171.764438214948\n",
      "2314.4100761859327\n"
     ]
    }
   ],
   "source": [
    "batch_size=100\n",
    "for i in range(25):\n",
    "    num_batches = int(mnist.train.num_examples/batch_size)\n",
    "    total_cost=0\n",
    "    for j in range(num_batches):\n",
    "        batch_x,batch_y=mnist.train.next_batch(batch_size)\n",
    "        c,_=sess.run([cost,optimize],feed_dict={x:batch_x,y:batch_y})\n",
    "        total_cost+=c\n",
    "    print(total_cost)  "
   ]
  },
  {
   "cell_type": "code",
   "execution_count": 51,
   "metadata": {},
   "outputs": [
    {
     "data": {
      "text/plain": [
       "9866"
      ]
     },
     "execution_count": 51,
     "metadata": {},
     "output_type": "execute_result"
    }
   ],
   "source": [
    "predictions=tf.argmax(pred,1)\n",
    "correct_labels=tf.argmax(y,1)\n",
    "correct_predictions=tf.equal(predictions,correct_labels)\n",
    "predictions,correct_predictions=sess.run([predictions,correct_predictions],feed_dict={x:mnist.test.images,y:mnist.test.labels})\n",
    "correct_predictions.sum()"
   ]
  }
 ],
 "metadata": {
  "kernelspec": {
   "display_name": "Python 3",
   "language": "python",
   "name": "python3"
  },
  "language_info": {
   "codemirror_mode": {
    "name": "ipython",
    "version": 3
   },
   "file_extension": ".py",
   "mimetype": "text/x-python",
   "name": "python",
   "nbconvert_exporter": "python",
   "pygments_lexer": "ipython3",
   "version": "3.7.6"
  }
 },
 "nbformat": 4,
 "nbformat_minor": 2
}
